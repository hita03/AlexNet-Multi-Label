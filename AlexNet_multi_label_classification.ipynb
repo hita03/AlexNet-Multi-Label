{
  "nbformat": 4,
  "nbformat_minor": 0,
  "metadata": {
    "colab": {
      "name": "AlexNet multi label classification.ipynb",
      "provenance": [],
      "machine_shape": "hm",
      "include_colab_link": true
    },
    "kernelspec": {
      "name": "python3",
      "display_name": "Python 3"
    },
    "language_info": {
      "name": "python"
    },
    "gpuClass": "standard"
  },
  "cells": [
    {
      "cell_type": "markdown",
      "metadata": {
        "id": "view-in-github",
        "colab_type": "text"
      },
      "source": [
        "<a href=\"https://colab.research.google.com/github/hita03/AlexNet-Multi-Label/blob/main/AlexNet_multi_label_classification.ipynb\" target=\"_parent\"><img src=\"https://colab.research.google.com/assets/colab-badge.svg\" alt=\"Open In Colab\"/></a>"
      ]
    },
    {
      "cell_type": "code",
      "execution_count": 2,
      "metadata": {
        "colab": {
          "base_uri": "https://localhost:8080/"
        },
        "id": "K5G0JRzg-srJ",
        "outputId": "94bbb6ce-babd-4ab6-a6fa-f02e15b82f2d"
      },
      "outputs": [
        {
          "output_type": "stream",
          "name": "stdout",
          "text": [
            "                                 image_name       tags\n",
            "0  NLA_398920523EDR_F0030078NCAM00302M1.jpg       sand\n",
            "1  NLA_399365176EDR_F0030100NCAM00305M1.jpg       soil\n",
            "2  NLA_399365204EDR_F0030100NCAM00305M1.jpg       soil\n",
            "3  NLA_401761424EDR_F0042644NCAM00429M1.jpg       soil\n",
            "4  NLA_401848341EDR_F0042778NCAM00409M1.jpg       soil\n",
            "5  NLA_401848369EDR_F0042778NCAM00409M1.jpg       soil\n",
            "6  NLA_401855285EDR_F0042778NCAM00434M1.jpg  soil rock\n",
            "7  NLA_401936713EDR_F0042956NCAM00435M1.jpg       soil\n",
            "8  NLA_401936747EDR_F0042956NCAM00435M1.jpg       soil\n",
            "9  NLA_402034422EDR_F0042956NCAM00107M1.jpg       soil\n",
            "(41, 2)\n",
            "{'rock', 'sand', 'soil'}\n"
          ]
        }
      ],
      "source": [
        "import pandas as pd\n",
        "import os\n",
        "\n",
        "root = \"/content/drive/MyDrive/cnn\"\n",
        "\n",
        "csvPath = os.path.join(root + \"/alexnet.csv\")\n",
        "trainImages = os.path.join(root + \"/train/.*jpg\")\n",
        "testImages = os.path.join(root + \"/test/.*jpg\")\n",
        "\n",
        "df = pd.read_csv(csvPath)\n",
        "\n",
        "print(df.head(10))\n",
        "print(df.shape)\n",
        "\n",
        "l = set()\n",
        "\n",
        "for tag in df['tags'].values:\n",
        "    labels = tag.split(' ')\n",
        "    l.update(labels)\n",
        "    \n",
        "print(l)"
      ]
    },
    {
      "cell_type": "code",
      "source": [
        "from google.colab import drive\n",
        "drive.mount('/content/drive')"
      ],
      "metadata": {
        "id": "JIW3Gf7ONY57",
        "colab": {
          "base_uri": "https://localhost:8080/"
        },
        "outputId": "4d262f5e-7bbd-4fcc-8b27-ce7b3e875f1b"
      },
      "execution_count": 1,
      "outputs": [
        {
          "output_type": "stream",
          "name": "stdout",
          "text": [
            "Drive already mounted at /content/drive; to attempt to forcibly remount, call drive.mount(\"/content/drive\", force_remount=True).\n"
          ]
        }
      ]
    },
    {
      "cell_type": "code",
      "source": [
        "import re\n",
        "\n",
        "labels = df['tags']\n",
        "\n",
        "def valueSearch(pattern):\n",
        "    count = []\n",
        "    num = 0\n",
        "    for label in labels:\n",
        "        x = re.search(pattern, label)\n",
        "        if x:\n",
        "            count.append(label)\n",
        "    for c in count:\n",
        "        num += 1\n",
        "    return num\n",
        "\n",
        "def showLabels(pattern):\n",
        "    for label in labels:\n",
        "        x = re.search(pattern, label)\n",
        "        if x:\n",
        "            print(label)\n",
        "            \n",
        "showLabels(r\"^[\\S]+$\") # values with one label\n",
        "showLabels(r\"^[^ ]* [^ ]* [^ ]* [^ ]* [^ ]* [^ ]*$\") # values with six labels\n",
        "showLabels(r\"^[^ ]* [^ ]* [^ ]* [^ ]* [^ ]* [^ ]* [^ ]* [^ ]* [^ ]*$\") # values with nine labels\n"
      ],
      "metadata": {
        "colab": {
          "base_uri": "https://localhost:8080/"
        },
        "id": "SQlvlGxNF9al",
        "outputId": "b9ac23cd-af76-4b78-b419-e086fc29586c"
      },
      "execution_count": 3,
      "outputs": [
        {
          "output_type": "stream",
          "name": "stdout",
          "text": [
            "sand\n",
            "soil\n",
            "soil\n",
            "soil\n",
            "soil\n",
            "soil\n",
            "soil\n",
            "soil\n",
            "soil\n",
            "soil\n",
            "sand\n",
            "sand\n",
            "sand\n",
            "sand\n",
            "sand\n",
            "soil\n",
            "rock\n",
            "rock\n",
            "rock\n",
            "rock\n",
            "soil\n",
            "rock\n"
          ]
        }
      ]
    },
    {
      "cell_type": "code",
      "source": [
        "import matplotlib.pyplot as plt\n",
        "\n",
        "patternList = [r\"^[\\S]+$\", r\"^[^ ]* [^ ]*$\", r\"^[^ ]* [^ ]* [^ ]*$\", r\"^[^ ]* [^ ]* [^ ]* [^ ]*$\", r\"^[^ ]* [^ ]* [^ ]* [^ ]* [^ ]*$\", r\"^[^ ]* [^ ]* [^ ]* [^ ]* [^ ]* [^ ]*$\",\n",
        "              r\"^[^ ]* [^ ]* [^ ]* [^ ]* [^ ]* [^ ]* [^ ]*$\", r\"^[^ ]* [^ ]* [^ ]* [^ ]* [^ ]* [^ ]* [^ ]* [^ ]*$\", r\"^[^ ]* [^ ]* [^ ]* [^ ]* [^ ]* [^ ]* [^ ]* [^ ]* [^ ]*$\", ]\n",
        "    \n",
        "valueList = []\n",
        "chartLabels = [\"1\", \"2\", \"3\", \"4\", \"5\", \"6\", \"7\", \"8\", \"9\"]\n",
        "\n",
        "for p in patternList:\n",
        "    valueList.append(valueSearch(p))\n",
        "\n",
        "fig, ax = plt.subplots()\n",
        "ax.bar(chartLabels, valueList)\n",
        "ax.set_xticklabels(chartLabels, rotation=90)\n",
        "plt.title(\"Distribution of Number of Labels\")\n",
        "plt.show()"
      ],
      "metadata": {
        "colab": {
          "base_uri": "https://localhost:8080/",
          "height": 278
        },
        "id": "atYlnLBQGDD9",
        "outputId": "24ae10dc-08bb-492f-89e5-83859f28c9bb"
      },
      "execution_count": 4,
      "outputs": [
        {
          "output_type": "display_data",
          "data": {
            "text/plain": [
              "<Figure size 432x288 with 1 Axes>"
            ],
            "image/png": "[encoded data removed]"
          },
          "metadata": {
            "needs_background": "light"
          }
        }
      ]
    },
    {
      "cell_type": "code",
      "source": [
        "import numpy as np\n",
        "import cv2\n",
        "# Iterate through the image id names and create unique file paths, \n",
        "# then cv2 imread and resize the images; and convert to np array. \n",
        "# Divide by 255 to normalize to 0-1. \n",
        "\n",
        "def loadImages(imgsize):\n",
        "    imgs = []\n",
        "    x = []\n",
        "    imgsize=1024\n",
        "    imgCount = 0\n",
        "\n",
        "    for imageids in df['image_name'].values:\n",
        "      print(imageids)\n",
        "      if imgCount < 43:\n",
        "\n",
        "            # images = os.path.join(trainImages + \"/\" + imageids + \".jpg\")\n",
        "          images = os.path.join(root+'/train/'+ imageids)\n",
        "          imgs.append(images)\n",
        "          imgCount += 1\n",
        "\n",
        "    for path in imgs:\n",
        "        img = cv2.imread(path)\n",
        "        try:\n",
        "          img = cv2.resize(img, (imgsize, imgsize))\n",
        "        except:\n",
        "          break  \n",
        "        x.append(img)\n",
        "\n",
        "    x = np.array(x, dtype=np.float32) / 255\n",
        "\n",
        "    return x\n",
        "\n",
        "X = loadImages(1024)"
      ],
      "metadata": {
        "colab": {
          "base_uri": "https://localhost:8080/"
        },
        "id": "wku_i6YLGPW_",
        "outputId": "2d0b8bb7-ad61-4a12-ec32-dad09e1daecc"
      },
      "execution_count": 5,
      "outputs": [
        {
          "output_type": "stream",
          "name": "stdout",
          "text": [
            "NLA_398920523EDR_F0030078NCAM00302M1.jpg\n",
            "NLA_399365176EDR_F0030100NCAM00305M1.jpg\n",
            "NLA_399365204EDR_F0030100NCAM00305M1.jpg\n",
            "NLA_401761424EDR_F0042644NCAM00429M1.jpg\n",
            "NLA_401848341EDR_F0042778NCAM00409M1.jpg\n",
            "NLA_401848369EDR_F0042778NCAM00409M1.jpg\n",
            "NLA_401855285EDR_F0042778NCAM00434M1.jpg\n",
            "NLA_401936713EDR_F0042956NCAM00435M1.jpg\n",
            "NLA_401936747EDR_F0042956NCAM00435M1.jpg\n",
            "NLA_402034422EDR_F0042956NCAM00107M1.jpg\n",
            "NLA_402109354EDR_F0043076NCAM00437M1.jpg\n",
            "NLA_402646906EDR_F0050000NCAM00320M1.jpg\n",
            "NLA_402654215EDR_F0050000NCAM00318M1.jpg\n",
            "NLA_402737150EDR_F0050104NCAM00447M1.jpg\n",
            "NLA_402815670EDR_F0050104NCAM00452M1.jpg\n",
            "NLA_402815705EDR_F0050104NCAM00452M1.jpg\n",
            "NLA_402816231EDR_F0050104NCAM00450M1.jpg\n",
            "NLA_403353108EDR_F0050104NCAM00324M1.jpg\n",
            "NLA_403354156EDR_F0050104NCAM00324M1.jpg\n",
            "NLA_403619961EDR_F0050104NCAM00324M1.jpg\n",
            "NLA_403976448EDR_F0050104NCAM00107M1.jpg\n",
            "NLA_403977159EDR_F0050104NCAM00107M1.jpg\n",
            "NLA_403977615EDR_F0050104NCAM00107M1.jpg\n",
            "NLA_404064541EDR_F0050104NCAM00336M1.jpg\n",
            "NLA_404065134EDR_F0050104NCAM00324M1.jpg\n",
            "NLA_404065912EDR_F0050104NCAM00324M1.jpg\n",
            "NLA_404066038EDR_F0050104NCAM00325M1.jpg\n",
            "NLA_404066962EDR_F0050104NCAM00324M1.jpg\n",
            "NLA_404067450EDR_F0050104NCAM00324M1.jpg\n",
            "NLA_404684268EDR_F0050104NCAM00107M1.jpg\n",
            "NLA_404684725EDR_F0050104NCAM00107M1.jpg\n",
            "NLA_406373862EDR_F0050116NCAM03214M1.jpg\n",
            "NLA_406373890EDR_F0050116NCAM03214M1.jpg\n",
            "NLA_408156382EDR_F0050742NCAM00215M1.jpg\n",
            "NLA_408244691EDR_F0050926NCAM00216M1.jpg\n",
            "NLA_408244789EDR_F0050926NCAM00216M1.jpg\n",
            "NLA_408244824EDR_F0050926NCAM00216M1.jpg\n",
            "NLA_408331426EDR_F0050938NCAM05134M1.jpg\n",
            "NLB_444018679EDR_F0251496NCAM00297M1.jpg\n",
            "NLB_444808777EDR_F0260292NCAM00258M1.jpg\n",
            "NLB_444808898EDR_F0260292NCAM00258M1.jpg\n"
          ]
        }
      ]
    },
    {
      "cell_type": "code",
      "source": [
        "from sklearn.model_selection import train_test_split\n",
        "\n",
        "# Iterates through the tags and splits them. If the passed category arg is in the split tags; feature will append 1 \n",
        "# to indicate presence of label and 0 in case of absence. It will then return the list of binarized labels.  \n",
        "\n",
        "def loadLabels(category):\n",
        "    feature = []\n",
        "    for tags in df['tags'].values:\n",
        "        tags = tags.split(' ')\n",
        "        if category in tags:\n",
        "            feature.append(1)\n",
        "        else:\n",
        "            feature.append(0)\n",
        "    return feature\n",
        "\n",
        "# Iterates through l (set of all labels - all 17 unique values) and creates a new df feature with the values being equal\n",
        "# to loadLabels column; then returns the new df. \n",
        "\n",
        "def createFeatures(l):\n",
        "    for col in l:\n",
        "        df[col] = loadLabels(col)\n",
        "    return df\n",
        "\n",
        "df = createFeatures(l)\n",
        "\n",
        "# Drops unnecessary cols (image name and tags) and drops all rows after 20000. Then converts df values to numpy array and returns\n",
        "# the dataframe. \n",
        "\n",
        "def extractLabels(df):\n",
        "    df = df.drop(columns=['image_name', 'tags'])\n",
        "    # df = df.drop(labels=range(20000, 40479), axis=0)\n",
        "    df = df.to_numpy()\n",
        "    return df\n",
        "\n",
        "y = extractLabels(df)\n",
        "\n",
        "# Train test split values; at 0.2% 16,000-4,000 training / validation.\n",
        "\n",
        "X_train, X_test, y_train, y_test = train_test_split(X, y, test_size=0.2)"
      ],
      "metadata": {
        "id": "Ko4Xx3xNHRst"
      },
      "execution_count": 6,
      "outputs": []
    },
    {
      "cell_type": "code",
      "source": [
        "print(X.shape[0], y.shape[0])"
      ],
      "metadata": {
        "colab": {
          "base_uri": "https://localhost:8080/"
        },
        "id": "y4FcEfEDH-iV",
        "outputId": "91e6961d-1e72-45db-d072-5d9ce8eb0783"
      },
      "execution_count": 7,
      "outputs": [
        {
          "output_type": "stream",
          "name": "stdout",
          "text": [
            "41 41\n"
          ]
        }
      ]
    },
    {
      "cell_type": "code",
      "source": [
        "from keras.models import Sequential\n",
        "from keras.layers import Conv2D, BatchNormalization, MaxPool2D, Dense, Flatten, Dropout\n",
        "from tensorflow.keras.callbacks import ModelCheckpoint\n",
        "\n",
        "alexnet = Sequential()\n",
        "alexnet.add(Conv2D(input_shape=(1024, 1024, 3), filters=96, kernel_size=(11,11), strides=(4,4), padding=\"same\", activation=\"relu\"))\n",
        "alexnet.add(BatchNormalization())\n",
        "alexnet.add(MaxPool2D(pool_size=(3,3), strides=(2,2)))\n",
        "\n",
        "alexnet.add(Conv2D(filters=256, kernel_size=(5,5), strides=(1, 1), padding=\"same\", activation=\"relu\"))\n",
        "alexnet.add(BatchNormalization())\n",
        "alexnet.add(MaxPool2D(pool_size=(3,3), strides=(2,2)))\n",
        "\n",
        "alexnet.add(Conv2D(filters=384, kernel_size=(3,3), strides=(1,1), padding=\"same\", activation=\"relu\"))\n",
        "alexnet.add(BatchNormalization())\n",
        "alexnet.add(Conv2D(filters=384, kernel_size=(1,1), strides=(1,1), padding=\"same\", activation=\"relu\"))\n",
        "alexnet.add(BatchNormalization())\n",
        "\n",
        "alexnet.add(Conv2D(filters=256, kernel_size=(1,1), strides=(1,1), padding=\"same\", activation=\"relu\"))\n",
        "alexnet.add(BatchNormalization())\n",
        "alexnet.add(MaxPool2D(pool_size=(3,3), strides=(2,2)))\n",
        "    \n",
        "alexnet.add(Flatten())\n",
        "alexnet.add(Dense(4096, activation=\"relu\"))\n",
        "alexnet.add(Dropout(0.5))\n",
        "alexnet.add(Dense(4096, activation=\"relu\"))\n",
        "alexnet.add(Dropout(0.5))\n",
        "alexnet.add(Dense(3, activation=\"sigmoid\"))\n",
        "\n",
        "alexnet.compile(loss='binary_crossentropy', optimizer='adam',\n",
        "              metrics=['accuracy'])\n",
        "\n",
        "model_checkpoint = ModelCheckpoint('alexnet.h5', monitor=\"accuracy\",verbose=1, save_best_only=True)\n",
        "alexnet.fit(X_train, y_train, batch_size=20, epochs=10, validation_data=(X_test, y_test), callbacks=[model_checkpoint])"
      ],
      "metadata": {
        "id": "_UsbFU4ALyE7",
        "colab": {
          "base_uri": "https://localhost:8080/"
        },
        "outputId": "5d9fa9c3-81f9-4d85-c75c-dbcba0eb0939"
      },
      "execution_count": 8,
      "outputs": [
        {
          "output_type": "stream",
          "name": "stdout",
          "text": [
            "Epoch 1/10\n",
            "2/2 [==============================] - ETA: 0s - loss: 87.7253 - accuracy: 0.4375\n",
            "Epoch 1: accuracy improved from -inf to 0.43750, saving model to alexnet.h5\n",
            "2/2 [==============================] - 105s 75s/step - loss: 87.7253 - accuracy: 0.4375 - val_loss: 3.8323 - val_accuracy: 0.6667\n",
            "Epoch 2/10\n",
            "2/2 [==============================] - ETA: 0s - loss: 120.8249 - accuracy: 0.4375 \n",
            "Epoch 2: accuracy did not improve from 0.43750\n",
            "2/2 [==============================] - 50s 22s/step - loss: 120.8249 - accuracy: 0.4375 - val_loss: 51.9735 - val_accuracy: 0.5556\n",
            "Epoch 3/10\n",
            "2/2 [==============================] - ETA: 0s - loss: 113.6121 - accuracy: 0.2500 \n",
            "Epoch 3: accuracy did not improve from 0.43750\n",
            "2/2 [==============================] - 48s 21s/step - loss: 113.6121 - accuracy: 0.2500 - val_loss: 114.5578 - val_accuracy: 0.6667\n",
            "Epoch 4/10\n",
            "2/2 [==============================] - ETA: 0s - loss: 29.7023 - accuracy: 0.6250 \n",
            "Epoch 4: accuracy improved from 0.43750 to 0.62500, saving model to alexnet.h5\n",
            "2/2 [==============================] - 103s 74s/step - loss: 29.7023 - accuracy: 0.6250 - val_loss: 181.2970 - val_accuracy: 0.2222\n",
            "Epoch 5/10\n",
            "2/2 [==============================] - ETA: 0s - loss: 42.2621 - accuracy: 0.5625 \n",
            "Epoch 5: accuracy did not improve from 0.62500\n",
            "2/2 [==============================] - 48s 21s/step - loss: 42.2621 - accuracy: 0.5625 - val_loss: 164.1450 - val_accuracy: 0.3333\n",
            "Epoch 6/10\n",
            "2/2 [==============================] - ETA: 0s - loss: 27.0137 - accuracy: 0.6562 \n",
            "Epoch 6: accuracy improved from 0.62500 to 0.65625, saving model to alexnet.h5\n",
            "2/2 [==============================] - 99s 72s/step - loss: 27.0137 - accuracy: 0.6562 - val_loss: 97.8108 - val_accuracy: 0.3333\n",
            "Epoch 7/10\n",
            "2/2 [==============================] - ETA: 0s - loss: 42.5884 - accuracy: 0.5000\n",
            "Epoch 7: accuracy did not improve from 0.65625\n",
            "2/2 [==============================] - 47s 21s/step - loss: 42.5884 - accuracy: 0.5000 - val_loss: 200.9874 - val_accuracy: 0.1111\n",
            "Epoch 8/10\n",
            "2/2 [==============================] - ETA: 0s - loss: 5.1536 - accuracy: 0.7500 \n",
            "Epoch 8: accuracy improved from 0.65625 to 0.75000, saving model to alexnet.h5\n",
            "2/2 [==============================] - 100s 73s/step - loss: 5.1536 - accuracy: 0.7500 - val_loss: 583.9272 - val_accuracy: 0.3333\n",
            "Epoch 9/10\n",
            "2/2 [==============================] - ETA: 0s - loss: 16.6996 - accuracy: 0.7812 \n",
            "Epoch 9: accuracy improved from 0.75000 to 0.78125, saving model to alexnet.h5\n",
            "2/2 [==============================] - 100s 74s/step - loss: 16.6996 - accuracy: 0.7812 - val_loss: 554.7351 - val_accuracy: 0.3333\n",
            "Epoch 10/10\n",
            "2/2 [==============================] - ETA: 0s - loss: 10.3313 - accuracy: 0.9375 \n",
            "Epoch 10: accuracy improved from 0.78125 to 0.93750, saving model to alexnet.h5\n",
            "2/2 [==============================] - 109s 81s/step - loss: 10.3313 - accuracy: 0.9375 - val_loss: 340.3969 - val_accuracy: 0.3333\n"
          ]
        },
        {
          "output_type": "execute_result",
          "data": {
            "text/plain": [
              "<keras.callbacks.History at 0x7fc011788790>"
            ]
          },
          "metadata": {},
          "execution_count": 8
        }
      ]
    }
  ]
}